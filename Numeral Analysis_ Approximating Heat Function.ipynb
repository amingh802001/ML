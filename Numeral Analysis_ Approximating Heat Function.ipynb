{
  "nbformat": 4,
  "nbformat_minor": 0,
  "metadata": {
    "colab": {
      "name": "face.ipynb",
      "provenance": [],
      "collapsed_sections": []
    },
    "kernelspec": {
      "name": "python3",
      "display_name": "Python 3"
    },
    "language_info": {
      "name": "python"
    }
  },
  "cells": [
    {
      "cell_type": "code",
      "source": [
        "import numpy as np\n",
        "import math"
      ],
      "metadata": {
        "id": "FaiCdaz6_mZb"
      },
      "execution_count": 21,
      "outputs": []
    },
    {
      "cell_type": "code",
      "source": [
        "from numpy.core.numeric import identity\n",
        "\n",
        "pi = np.pi\n",
        "\n",
        "#norms\n",
        "def norm_2(W):\n",
        "  s = [i**2 for i in W]\n",
        "  return sum(s)**(1/2)\n",
        "\n",
        "def norm_inf(W):\n",
        "  s = max([abs(i) for i in W])\n",
        "  return s\n",
        "  \n",
        "def rmsd(W):\n",
        "  t = len(W)\n",
        "  s = [i**2 for i in W]\n",
        "  return (sum(s)/t)**(1/2)\n",
        "\n",
        "\n",
        "\n",
        "def heat_eq(alpha, h, k, x_start=0, x_end=1, t_end=1):\n",
        "\n",
        "  landa = (alpha**2 * k)/(h**2)\n",
        "  m = int((x_end - x_start)/h)\n",
        "  u = int(t_end/k)\n",
        "  iters = int(t_end/k)\n",
        "  \n",
        "  X = [i*h for i in range(m)]\n",
        "  T = [j*k for j in range(u)]\n",
        "\n",
        "  \n",
        "  #functions\n",
        "  \n",
        "  sin_p = lambda x : round(np.sin(pi * x),5)\n",
        "  \n",
        "  initial = lambda x : 3*sin_p(x) + 5*sin_p(4*x)\n",
        "  real_ans = lambda x, t: 3*np.exp(-((np.pi**2)*t))*sin_p(x) + 5*np.exp(-(16*(np.pi**2)*t))*sin_p(4*x)\n",
        "  \n",
        "  '''\n",
        "  initial = lambda x : sin_p(x)\n",
        "  real_ans = lambda x, t: np.exp(-(np.pi**2 * t))*sin_p(x)\n",
        "  '''\n",
        "\n",
        "  #A\n",
        "  A = np.zeros([m-1, m-1])\n",
        "  for i in range(np.shape(A)[0]):\n",
        "    A[i,i]= 1 - 2*landa\n",
        "    try:\n",
        "      A[i+1, i] = landa\n",
        "      A[i, i+1] = landa\n",
        "    except:\n",
        "      pass\n",
        "\n",
        "  #A_b\n",
        "  A_b = np.zeros([m-1, m-1])\n",
        "  for i in range(np.shape(A)[0]):\n",
        "    A_b[i,i]= 1 + 2*landa\n",
        "    try:\n",
        "      A_b[i+1, i] = -landa\n",
        "      A_b[i, i+1] = -landa\n",
        "    except:\n",
        "      pass\n",
        "\n",
        "  \n",
        "  #W_0\n",
        "  W = [initial(X[i]) for i in range(1, m)]\n",
        "  W_b = W\n",
        "  \n",
        "  \n",
        "  #forward \n",
        "  for i in range(u-1):\n",
        "    W = np.dot(A, W)\n",
        "  \n",
        "  #backward\n",
        "  for i in range(u-1):\n",
        "    W_b = np.linalg.solve(A_b, W_b)\n",
        "\n",
        "    \n",
        "  WA =  [real_ans(X[i], T[-1]) for i in range(1, m)]\n",
        "  \n",
        "  return (WA, W, W_b)\n",
        "\n",
        "\n"
      ],
      "metadata": {
        "id": "FanXyI7ANeD7"
      },
      "execution_count": 22,
      "outputs": []
    },
    {
      "cell_type": "code",
      "source": [
        "#Report\n",
        "\n",
        "k = 10**-4\n",
        "h = [0.2, 0.1, 0.05, 0.025]\n",
        "\n",
        "answers = []\n",
        "\n",
        "for i in h:\n",
        "  ans = heat_eq(alpha=1, h=i, k=k, t_end=0.1)\n",
        "  answers.append(ans)\n",
        "\n",
        "f_dif = [(ans[0]-ans[1]) for ans in answers]\n",
        "b_dif = [(ans[0]-ans[2]) for ans in answers]\n",
        "\n",
        "\n",
        "print('Method: Forward')\n",
        "print('h \\t\\t','norm_2\\t\\t\\t', 'norm_inf\\t\\t', 'RMSE')\n",
        "\n",
        "for i in range(len(f_dif)):\n",
        "  print(f'{h[i]}\\t{norm_2(f_dif[i])}\\t{norm_inf(f_dif[i])}\\t{rmsd(f_dif[i])}')\n",
        "\n",
        "print('\\n\\n\\n')\n",
        "\n",
        "print('Method: Backward')\n",
        "print('h \\t\\t','norm_2\\t\\t\\t', 'norm_inf\\t\\t', 'RMSE')\n",
        "\n",
        "for i in range(len(b_dif)):\n",
        "  print(f'{h[i]}\\t{norm_2(b_dif[i])}\\t{norm_inf(b_dif[i])}\\t{rmsd(b_dif[i])}')\n"
      ],
      "metadata": {
        "colab": {
          "base_uri": "https://localhost:8080/"
        },
        "id": "ROZ0C9fN1SVj",
        "outputId": "73068b78-4d9f-4074-96df-3f0ed88bbe0a"
      },
      "execution_count": 23,
      "outputs": [
        {
          "output_type": "stream",
          "name": "stdout",
          "text": [
            "Method: Forward\n",
            "h \t\t norm_2\t\t\t norm_inf\t\t RMSE\n",
            "0.2\t0.05674401649856953\t0.03467098404340141\t0.028372008249284764\n",
            "0.1\t0.019102274119285518\t0.00854703057152828\t0.006367424706428506\n",
            "0.05\t0.005457528941448861\t0.0017292991892532417\t0.0012520430072223206\n",
            "0.025\t0.00010315702957830373\t2.5405910756060024e-05\t1.651834469839054e-05\n",
            "\n",
            "\n",
            "\n",
            "\n",
            "Method: Backward\n",
            "h \t\t norm_2\t\t\t norm_inf\t\t RMSE\n",
            "0.2\t0.0584095699935111\t0.035718461403141166\t0.02920478499675555\n",
            "0.1\t0.021517349883035823\t0.00962708487898678\t0.007172449961011941\n",
            "0.05\t0.008894514357148267\t0.0028161707443334905\t0.002040541538667418\n",
            "0.025\t0.004970134721786138\t0.0011139801414292716\t0.0007958584971621747\n"
          ]
        }
      ]
    },
    {
      "cell_type": "code",
      "source": [
        "\n",
        "'''f=open('/boland_left_happy_open_4.pgm','rb')\n",
        "format=f.readline()\n",
        "width,height=[int(i) for i in f.readline().split()]\n",
        "depth=int(f.readline())\n",
        "values=[]\n",
        "for i in range(width):\n",
        "  row=[]\n",
        "  for j in range(height):\n",
        "    row.append(ord(f.read(1)))\n",
        "  values.append(row)\n",
        "print(len(values[0]))'''"
      ],
      "metadata": {
        "colab": {
          "base_uri": "https://localhost:8080/",
          "height": 87
        },
        "id": "u6l6SNENLMZ7",
        "outputId": "9c85bc68-7e4a-4264-9349-6f83c8c44c31"
      },
      "execution_count": 24,
      "outputs": [
        {
          "output_type": "execute_result",
          "data": {
            "text/plain": [
              "\"f=open('/boland_left_happy_open_4.pgm','rb')\\nformat=f.readline()\\nwidth,height=[int(i) for i in f.readline().split()]\\ndepth=int(f.readline())\\nvalues=[]\\nfor i in range(width):\\n  row=[]\\n  for j in range(height):\\n    row.append(ord(f.read(1)))\\n  values.append(row)\\nprint(len(values[0]))\""
            ],
            "application/vnd.google.colaboratory.intrinsic+json": {
              "type": "string"
            }
          },
          "metadata": {},
          "execution_count": 24
        }
      ]
    }
  ]
}