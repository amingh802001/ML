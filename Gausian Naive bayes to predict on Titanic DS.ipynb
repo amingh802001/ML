{
  "cells": [
    {
      "cell_type": "code",
      "execution_count": 2,
      "metadata": {
        "id": "__p9MLhJL9ZG"
      },
      "outputs": [],
      "source": [
        "import pandas as pd\n",
        "import numpy as np\n",
        "from sklearn.preprocessing import LabelEncoder\n",
        "from sklearn.linear_model import LinearRegression"
      ]
    },
    {
      "cell_type": "code",
      "source": [
        "train = pd.read_csv('train.csv')\n",
        "test = pd.read_csv('test.csv')"
      ],
      "metadata": {
        "id": "M7Y36U5VhSFK"
      },
      "execution_count": 3,
      "outputs": []
    },
    {
      "cell_type": "code",
      "source": [
        "train.head"
      ],
      "metadata": {
        "id": "nkHyf0uVut8W"
      },
      "execution_count": null,
      "outputs": []
    },
    {
      "cell_type": "code",
      "source": [
        "#Checking 4 D features containing Nan\n",
        "for i in train:\n",
        "  if train[i].isnull().values.any() == True:\n",
        "    print(i)"
      ],
      "metadata": {
        "colab": {
          "base_uri": "https://localhost:8080/"
        },
        "id": "yIZE3Us1jn0r",
        "outputId": "a90e100d-4651-44ad-dc2c-ea6701ac39af"
      },
      "execution_count": 5,
      "outputs": [
        {
          "output_type": "stream",
          "name": "stdout",
          "text": [
            "Age\n"
          ]
        }
      ]
    },
    {
      "cell_type": "markdown",
      "source": [
        "# pre 1"
      ],
      "metadata": {
        "id": "LZqOCNc78m83"
      }
    },
    {
      "cell_type": "code",
      "source": [
        "# LabelEncoder\n",
        "from sklearn import preprocessing\n",
        "le = preprocessing.LabelEncoder()\n",
        "le.fit(train['Sex'])\n",
        "print(le.classes_)\n",
        "print(le.transform(['male', 'female', 'female']))\n",
        "print(le.inverse_transform([0, 0, 1, 1]))"
      ],
      "metadata": {
        "colab": {
          "base_uri": "https://localhost:8080/"
        },
        "id": "-uMNoAjDj7Dj",
        "outputId": "5cd5abfa-0a89-45be-ff18-feb707742cf7"
      },
      "execution_count": 6,
      "outputs": [
        {
          "output_type": "stream",
          "name": "stdout",
          "text": [
            "['female' 'male']\n",
            "[1 0 0]\n",
            "['female' 'female' 'male' 'male']\n"
          ]
        }
      ]
    },
    {
      "cell_type": "code",
      "source": [
        "for i in train:\n",
        "  L = []\n",
        "  for j in range(len(train[i])):\n",
        "    L.append(train[i][j])\n",
        "  for j in range(len(test[i])):\n",
        "    L.append(test[i][j])\n",
        "  le.fit(L)\n",
        "  transformed_x = le.transform(train[i])\n",
        "  train[i] = transformed_x\n",
        "  transformed_y = le.transform(test[i])\n",
        "  test[i] = transformed_y"
      ],
      "metadata": {
        "id": "EEGZHULIn-fY"
      },
      "execution_count": 7,
      "outputs": []
    },
    {
      "cell_type": "markdown",
      "source": [
        "# pre 2"
      ],
      "metadata": {
        "id": "P8fxfClO8t0o"
      }
    },
    {
      "cell_type": "code",
      "source": [
        "#nan: 88\n",
        "#Buildig an array to fit LR\n",
        "#Pre 1\n",
        "L = []\n",
        "for i in range(len(train['Age'])):\n",
        "  if train['Age'][i] == 88:\n",
        "    L.append(i)\n",
        "LL = []\n",
        "for i in range(len(test['Age'])):\n",
        "  if test['Age'][i] == 88:\n",
        "    LL.append(i)"
      ],
      "metadata": {
        "id": "KXIrTc893Rk8"
      },
      "execution_count": 8,
      "outputs": []
    },
    {
      "cell_type": "code",
      "source": [
        "train_array = np.array(train)\n",
        "test_array = np.array(test)"
      ],
      "metadata": {
        "id": "OUHZIxMcc_cn"
      },
      "execution_count": 9,
      "outputs": []
    },
    {
      "cell_type": "code",
      "source": [
        "lr_X = train_array\n",
        "lr_X = np.delete(lr_X, 2, axis=1)\n",
        "lr_X = np.delete(lr_X, L, axis=0)"
      ],
      "metadata": {
        "id": "foETXu1IlQLS"
      },
      "execution_count": 10,
      "outputs": []
    },
    {
      "cell_type": "code",
      "source": [
        "print(lr_X.shape)"
      ],
      "metadata": {
        "colab": {
          "base_uri": "https://localhost:8080/"
        },
        "id": "XTVLhE0vmKcc",
        "outputId": "d50373b0-798c-4a75-b644-061c8db785e2"
      },
      "execution_count": 11,
      "outputs": [
        {
          "output_type": "stream",
          "name": "stdout",
          "text": [
            "(568, 8)\n"
          ]
        }
      ]
    },
    {
      "cell_type": "code",
      "source": [
        "lr_Y = train_array.T[2]\n",
        "lr_Y = np.delete(lr_Y, L)"
      ],
      "metadata": {
        "id": "Gz-1fNr7mNaH"
      },
      "execution_count": 12,
      "outputs": []
    },
    {
      "cell_type": "code",
      "source": [
        "reg = LinearRegression().fit(lr_X, lr_Y)"
      ],
      "metadata": {
        "id": "ojxWJhFim5Rn"
      },
      "execution_count": 13,
      "outputs": []
    },
    {
      "cell_type": "code",
      "source": [
        "reg.score(lr_X, lr_Y)"
      ],
      "metadata": {
        "colab": {
          "base_uri": "https://localhost:8080/"
        },
        "id": "sp1et2y_oO9V",
        "outputId": "f3b10232-4f77-4a13-a5a1-6ae819ff4490"
      },
      "execution_count": 14,
      "outputs": [
        {
          "output_type": "execute_result",
          "data": {
            "text/plain": [
              "0.2622532500967413"
            ]
          },
          "metadata": {},
          "execution_count": 14
        }
      ]
    },
    {
      "cell_type": "code",
      "source": [
        "#Inject the predictions into train & test\n",
        "to_pred_train = train_array[L]\n",
        "to_pred_test = test_array[LL]\n",
        "\n",
        "to_pred_train = np.delete(to_pred_train, 2 , axis=1)\n",
        "to_pred_test = np.delete(to_pred_test, 2, axis=1)\n",
        "\n",
        "pred_train = reg.predict(to_pred_train)\n",
        "pred_train = pred_train.astype(int)\n",
        "pred_test = reg.predict(to_pred_test)\n",
        "pred_test = pred_test.astype(int)\n",
        "\n",
        "print(pred_train)\n",
        "print(pred_test)"
      ],
      "metadata": {
        "colab": {
          "base_uri": "https://localhost:8080/"
        },
        "id": "SmQO6BiloV28",
        "outputId": "90aa3b7c-c4a0-40b9-cfed-56e3d3f402a4"
      },
      "execution_count": 15,
      "outputs": [
        {
          "output_type": "stream",
          "name": "stdout",
          "text": [
            "[17 38 37 58 29 49 35 49 37 49 35 31 31 32 36 31 28 38 49 35 35 29 37 38\n",
            " 37 32 32 44 19 38 59 44 38 49 38 29 58 36 36 29 46 36 38 38 36 45 34 37\n",
            " 47 37 23 58 37 23 38 35 38 37 45 38 35 47 29 37 20 25 29 38 38 60 38 58\n",
            " 37 26 58 57 37 31 38 35 37 23 24 58  6 49 29 31  5 23 29  5 57 39 29 39\n",
            " 23 18 29 49 24 38 49 38 32 38 56 39 30 35 35 37 23 35 21 29 38 49 33 38\n",
            " 40 42 57 38 37 39 49 37 38 27 37 57 49 35 37  6 38 60 25 29 38 32 37 40]\n",
            "[38 38 23 39 28 49 39 47  6 35 38 36  5 38 38 35 35 28 37 27 38 55 19 38\n",
            "  5 28 39 28 38 26 26 60 36]\n"
          ]
        }
      ]
    },
    {
      "cell_type": "code",
      "source": [
        "U = []\n",
        "for j in range(len(train['Age'])):\n",
        "  U.append(train['Age'][j])\n",
        "for j in range(len(test['Age'])):\n",
        "  U.append(test['Age'][j])"
      ],
      "metadata": {
        "id": "HTWbHCCyrNBW"
      },
      "execution_count": 16,
      "outputs": []
    },
    {
      "cell_type": "code",
      "source": [
        "le.fit(U)\n",
        "pred_train = le.transform(pred_train)\n",
        "pred_test = le.transform(pred_test)"
      ],
      "metadata": {
        "id": "FttkhTWBG86D"
      },
      "execution_count": 17,
      "outputs": []
    },
    {
      "cell_type": "code",
      "source": [
        "#Pred 2\n",
        "for i in range(len(L)):\n",
        "  train_array[L[i]][2] = pred_train[i]\n",
        "\n",
        "for i in range(len(LL)):\n",
        "  test_array[LL[i]][2] = pred_test[i]"
      ],
      "metadata": {
        "id": "6eMDEhQTv13y"
      },
      "execution_count": 18,
      "outputs": []
    },
    {
      "cell_type": "markdown",
      "source": [
        "# Gausian Naive bayes to predict"
      ],
      "metadata": {
        "id": "49f8c-ub9BSS"
      }
    },
    {
      "cell_type": "code",
      "source": [
        "from sklearn.naive_bayes import GaussianNB"
      ],
      "metadata": {
        "id": "yxiAkgBOfkqo"
      },
      "execution_count": 19,
      "outputs": []
    },
    {
      "cell_type": "code",
      "source": [
        "X_train = train_array.T[:8].T\n",
        "X_test = test_array.T[:8].T\n",
        "y_train = train_array.T[8].T\n",
        "y_test = test_array.T[8].T"
      ],
      "metadata": {
        "id": "uj_7Fhl0vJWl"
      },
      "execution_count": 20,
      "outputs": []
    },
    {
      "cell_type": "code",
      "source": [
        "gnb = GaussianNB()\n",
        "y_pred = gnb.fit(X_train, y_train).predict(X_test)"
      ],
      "metadata": {
        "id": "xytSVWDewWRs"
      },
      "execution_count": 21,
      "outputs": []
    },
    {
      "cell_type": "code",
      "source": [
        "print(y_pred[:20])\n",
        "print(y_test[:20])"
      ],
      "metadata": {
        "id": "TIZaulhsxu8F",
        "colab": {
          "base_uri": "https://localhost:8080/"
        },
        "outputId": "40f9b038-e19a-410a-b6ea-6cb8c3205eae"
      },
      "execution_count": 22,
      "outputs": [
        {
          "output_type": "stream",
          "name": "stdout",
          "text": [
            "[1 0 1 1 1 0 0 1 1 1 0 0 1 0 1 1 0 0 0 1]\n",
            "[1 0 1 0 1 0 0 1 0 1 0 1 0 1 1 1 0 0 0 1]\n"
          ]
        }
      ]
    },
    {
      "cell_type": "markdown",
      "source": [
        "# metrics"
      ],
      "metadata": {
        "id": "_1FxuK4Q9NAE"
      }
    },
    {
      "cell_type": "code",
      "source": [
        "from sklearn.metrics import f1_score\n",
        "from sklearn.metrics import accuracy_score\n",
        "from sklearn.metrics import precision_score\n",
        "from sklearn.metrics import recall_score\n",
        "\n",
        "print('accuracy: ', accuracy_score(y_test, y_pred))\n",
        "print('precision: ', precision_score(y_test, y_pred))\n",
        "print('recall: ', recall_score(y_test, y_pred))\n",
        "print('f1_score: ', f1_score(y_test, y_pred))"
      ],
      "metadata": {
        "colab": {
          "base_uri": "https://localhost:8080/"
        },
        "id": "BoTdcwNYlBvb",
        "outputId": "c0724e59-d10e-444d-cafb-4fd084d88cc4"
      },
      "execution_count": 24,
      "outputs": [
        {
          "output_type": "stream",
          "name": "stdout",
          "text": [
            "accuracy:  0.7597765363128491\n",
            "precision:  0.7027027027027027\n",
            "recall:  0.7123287671232876\n",
            "f1_score:  0.7074829931972789\n"
          ]
        }
      ]
    },
    {
      "cell_type": "code",
      "source": [
        "from sklearn.metrics import confusion_matrix"
      ],
      "metadata": {
        "id": "ejKpjC1G4g3b"
      },
      "execution_count": 26,
      "outputs": []
    },
    {
      "cell_type": "code",
      "source": [
        "confusion_matrix(y_test, y_pred)"
      ],
      "metadata": {
        "colab": {
          "base_uri": "https://localhost:8080/"
        },
        "id": "exmkX81s8VcV",
        "outputId": "9ee72dd2-3e3a-4126-b664-962de5968eb7"
      },
      "execution_count": 27,
      "outputs": [
        {
          "output_type": "execute_result",
          "data": {
            "text/plain": [
              "array([[84, 22],\n",
              "       [21, 52]])"
            ]
          },
          "metadata": {},
          "execution_count": 27
        }
      ]
    },
    {
      "cell_type": "code",
      "source": [],
      "metadata": {
        "id": "n-5T0tvh8dcH"
      },
      "execution_count": null,
      "outputs": []
    }
  ],
  "metadata": {
    "colab": {
      "provenance": []
    },
    "kernelspec": {
      "display_name": "Python 3",
      "name": "python3"
    },
    "language_info": {
      "name": "python"
    }
  },
  "nbformat": 4,
  "nbformat_minor": 0
}