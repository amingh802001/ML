{
 "cells": [
  {
   "cell_type": "markdown",
   "id": "ba790283",
   "metadata": {},
   "source": [
    "# Compressh through SVD"
   ]
  },
  {
   "cell_type": "code",
   "execution_count": 1,
   "id": "41ce2ca9",
   "metadata": {},
   "outputs": [],
   "source": [
    "import numpy as np\n",
    "import matplotlib.pyplot as plt\n",
    "import skimage\n",
    "from skimage import io\n",
    "\n",
    "def SVD_compress(path, k, save=False, save_name=None):\n",
    "    image = io.imread(path)\n",
    "    # Convert the image to grayscale \n",
    "    if len(image.shape) == 3:\n",
    "        image = np.mean(image, axis=2).astype(np.uint8)\n",
    "    U, S, V = np.linalg.svd(image, full_matrices=False)\n",
    "    compressed_image = np.dot(U[:, :k], np.dot(np.diag(S[:k]), V[:k, :]))\n",
    "    \n",
    "    # Display the original and compressed images\n",
    "    plt.figure(figsize=(10, 5))\n",
    "    plt.subplot(1, 2, 1)\n",
    "    plt.title('Original Image')\n",
    "    plt.imshow(image, cmap='gray')\n",
    "\n",
    "    plt.subplot(1, 2, 2)\n",
    "    plt.title('Compressed Image (k={})'.format(k))\n",
    "    plt.imshow(compressed_image, cmap='gray')\n",
    "\n",
    "    plt.show()\n",
    "\n",
    "    # Save the compressed image if needed\n",
    "    if save==True:\n",
    "        io.imsave(save_name+'.jpg', compressed_image.astype(np.uint8))"
   ]
  },
  {
   "cell_type": "markdown",
   "id": "10c82fad",
   "metadata": {},
   "source": [
    "# Compress through KMeans Clustering"
   ]
  },
  {
   "cell_type": "code",
   "execution_count": 2,
   "id": "24db9aef",
   "metadata": {},
   "outputs": [],
   "source": [
    "import numpy as np\n",
    "import cv2\n",
    "from sklearn.cluster import KMeans\n",
    "\n",
    "def compress_image(input_image_path, output_image_path, k=8):\n",
    "    image = cv2.imread(input_image_path)\n",
    "    \n",
    "    # Reshape the image to a 2D array\n",
    "    pixels = image.reshape(-1, 3)\n",
    "    \n",
    "    # Apply K-means clustering\n",
    "    kmeans = KMeans(n_clusters=k)\n",
    "    kmeans.fit(pixels)\n",
    "    \n",
    "    # Get the cluster labels for each pixel\n",
    "    labels = kmeans.predict(pixels)\n",
    "    \n",
    "    # Get the cluster centers (representative color)\n",
    "    colors = kmeans.cluster_centers_.astype(int)\n",
    "    \n",
    "    # Create a compressed image\n",
    "    compressed_image = np.zeros_like(pixels)\n",
    "    for i in range(k):\n",
    "        compressed_image[labels == i] = colors[i]\n",
    "    \n",
    "    # Reshapeto the original shape\n",
    "    compressed_image = compressed_image.reshape(image.shape)\n",
    "    \n",
    "    # Save the compressed image\n",
    "    cv2.imwrite(output_image_path, compressed_image)\n"
   ]
  }
 ],
 "metadata": {
  "kernelspec": {
   "display_name": "Python 3 (ipykernel)",
   "language": "python",
   "name": "python3"
  },
  "language_info": {
   "codemirror_mode": {
    "name": "ipython",
    "version": 3
   },
   "file_extension": ".py",
   "mimetype": "text/x-python",
   "name": "python",
   "nbconvert_exporter": "python",
   "pygments_lexer": "ipython3",
   "version": "3.10.9"
  }
 },
 "nbformat": 4,
 "nbformat_minor": 5
}
